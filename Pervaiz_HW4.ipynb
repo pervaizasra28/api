{
  "nbformat": 4,
  "nbformat_minor": 0,
  "metadata": {
    "colab": {
      "name": "Pervaiz_HW4.ipynb",
      "provenance": [],
      "collapsed_sections": []
    },
    "kernelspec": {
      "name": "python3",
      "display_name": "Python 3"
    }
  },
  "cells": [
    {
      "cell_type": "markdown",
      "metadata": {
        "id": "hCZ49f4R3U3t"
      },
      "source": [
        "**Assignment 4**\n",
        "\n",
        "10 points\n",
        "\n",
        "* due Apr. 7, 10am (before the beginning of the class);\n",
        "* only Blackboard electronic submissions will be accepted;\n",
        "* no late submissions will be accepted;\n",
        "* this is an individual assignment;\n",
        "* name you file yourLastName_HW4.ipynb;\n",
        "* download your notebook from Google Colab?:\n",
        "* 1. select 'Files' tab and 'Rename' your notebook following the pattern specified above;\n",
        "* 2. select 'Edit' and 'Clear All Outputs';\n",
        "* 3. select 'Runtime' and 'Restart Runtime';\n",
        "* 4. select 'Files' tab and select 'Save' option to make sure that you saved the latest changes;\n",
        "* 5. right click 'File', then 'Download' (choose the .ipynb option).\n",
        "* Upload your assignment on the class blackboard (*Help*: https://help.blackboard.com/Learn/Student/Assignments/Submit_Assignments). "
      ]
    },
    {
      "cell_type": "markdown",
      "metadata": {
        "id": "NJcUDb0l3qGi"
      },
      "source": [
        "**Problem Statement**\n",
        "\n",
        "For assignment you will be working with the https://newsapi.org site.\n",
        "\n",
        "What does the site do: \"Get breaking news headlines, and search for articles from news sources and blogs all over the web with our news API.\"\n",
        "\n",
        "What you need to do: \n",
        "1. (1 point) Get **your own (free) API key** for https://newsapi.org. Assign the value of your API key to the `myAPIkey` variable. \n",
        "2. (2 points) Use the https://newsapi.org API to fetch the news about COVID from various sources. Output the results returned by the API. Read the documentation for the [`Everything`](https://newsapi.org/docs/endpoints/everything) call. Go through the examples to understand what each call is doing. \n",
        "3. (1 point) Study the API documentation (learn about the JSON output returned by this API). Output the set of keys in the output JSON object. \n",
        "4. (1 point) Output the name of the author who wrote the news article that appears second in the JSON output (from the call that you submitted in question 2).\n",
        "5. (1 point) Output the description on the news article that appears first in the JSON output (from the call that you submitted in question 2). \n",
        "6. (2 points) Resubmit the request from question 2, asking only for the news articles published only in the domains CNN.com or BBC.com. Read the documentation for the [`Everything`](https://newsapi.org/docs/endpoints/everything) call in the documentation, and understand how to only retrieve articles published in domains that you specify.  \n",
        "7. (2 points) Resubmit the request from question 6, asking only for the news articles published in English (in any country). Read the documentation for the  [`Sources`](https://newsapi.org/docs/endpoints/sources) call to understand how to do that\n",
        ".\n",
        "\n",
        "Remember that your code should be dynamic: we get COVID news everyday and as the assignment does not put any specifications on the date of the news article publication, if you run your script on different days you might (highly likely will) get different results.  \n",
        "\n",
        "If you are interested to get more practice working with APIs, I suggest that you find an API that you want to try, get a key, and try different parameter settings. \n",
        "\n"
      ]
    },
    {
      "cell_type": "code",
      "metadata": {
        "id": "ttiaaTBD3SVC"
      },
      "source": [
        "import requests\n",
        "import json"
      ],
      "execution_count": null,
      "outputs": []
    },
    {
      "cell_type": "code",
      "metadata": {
        "id": "O6JLbi73ypDL"
      },
      "source": [
        "#Q1 AND Q2\n",
        "url = \"https://newsapi.org/v2/everything\" \n",
        "myAPIkey = \"2a0b727b2220426298fa6cc9d2c3ded1\"\n",
        "article = {'q' : 'Everything' + myAPIkey}\n",
        "params = {\n",
        "    \"q\"  : \"Covid\" ,\n",
        "    \"apikey\" : \"2a0b727b2220426298fa6cc9d2c3ded1\"\n",
        "}\n",
        "\n",
        "resp = requests.get(url , params = params)\n",
        "data = resp.json()\n",
        "data"
      ],
      "execution_count": null,
      "outputs": []
    },
    {
      "cell_type": "code",
      "metadata": {
        "id": "CjE2Lhn1mjuV"
      },
      "source": [
        "#Q3\n",
        "keys = data.keys()\n",
        "print(keys)"
      ],
      "execution_count": null,
      "outputs": []
    },
    {
      "cell_type": "code",
      "metadata": {
        "id": "Ew5jVrNwyye9"
      },
      "source": [
        "#Q4\n",
        "print(f\"The second article is: {data['articles'][1]['url']}\")\n",
        "print(f\"The author name is: {data['articles'][1]['author']}\")"
      ],
      "execution_count": null,
      "outputs": []
    },
    {
      "cell_type": "code",
      "metadata": {
        "id": "_V7Cw7bU0hHG"
      },
      "source": [
        "#Q5\n",
        "print(f\"The first article is:  {data['articles'][0]['url']}\")\n",
        "print(f\"Description:  {data['articles'][0]['description']}\")"
      ],
      "execution_count": null,
      "outputs": []
    },
    {
      "cell_type": "code",
      "metadata": {
        "id": "j-ls17lf1PWx"
      },
      "source": [
        "#Q6\n",
        "url = \"https://newsapi.org/v2/everything\" \n",
        "myAPIkey = \"2a0b727b2220426298fa6cc9d2c3ded1\"\n",
        "article = {'q' : 'Everything' + myAPIkey}\n",
        "params = {\n",
        "    \"q\"  : \"Covid\" ,\n",
        "    \"apikey\" : \"2a0b727b2220426298fa6cc9d2c3ded1\"\n",
        "}\n",
        "\n",
        "resp = requests.get(url , params = params)\n",
        "data = resp.json()\n",
        "data\n"
      ],
      "execution_count": null,
      "outputs": []
    },
    {
      "cell_type": "code",
      "metadata": {
        "id": "TiVLnI5yQHiD"
      },
      "source": [
        "#Q6 continue\n",
        "new_url = \"https://newsapi.org/v2/everything?domains=cnn.com,bbc.com,thenextweb.com&apiKey=2a0b727b2220426298fa6cc9d2c3ded1\"\n",
        "requests.get(new_url).json()"
      ],
      "execution_count": null,
      "outputs": []
    },
    {
      "cell_type": "code",
      "metadata": {
        "id": "5AVdmyugQgBR"
      },
      "source": [
        "requests.get(new_url).json()\n",
        "sources = 'https://newsapi.org/v2/sources?apiKey=2a0b727b2220426298fa6cc9d2c3ded1'\n",
        "params = {\n",
        "    'language' : 'en'\n",
        "}\n",
        "resp = requests.get(sources, params = params)\n",
        "resp.json()"
      ],
      "execution_count": null,
      "outputs": []
    }
  ]
}